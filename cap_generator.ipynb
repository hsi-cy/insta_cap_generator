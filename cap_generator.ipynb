{
 "cells": [
  {
   "cell_type": "code",
   "execution_count": 3,
   "metadata": {},
   "outputs": [],
   "source": [
    "import pandas as pd\n",
    "import random"
   ]
  },
  {
   "cell_type": "code",
   "execution_count": 8,
   "metadata": {},
   "outputs": [],
   "source": [
    "hashTable = pd.read_csv('bird' + \".csv\")\n",
    "hashtags = [(\"#\" + i + \" \") for i in random.choices(hashTable[\"tags\"], k=23)]\n",
    "species = 'something'\n",
    "date = '1234'\n",
    "\n",
    "with open(\"post.txt\", \"w\", encoding=\"utf-8\") as file:\n",
    "    file.write(\"#\" + species + \"\\n\")\n",
    "    file.write(\"---\\n\")\n",
    "    file.write(\"Date: \" + date + \"\\n\")\n",
    "    file.write(\"---\\n\")\n",
    "    # file.writelines(content)\n",
    "    # file.writelines(sonytags)\n",
    "    # file.writelines(footer)\n",
    "    file.writelines(hashtags)"
   ]
  },
  {
   "cell_type": "code",
   "execution_count": null,
   "metadata": {},
   "outputs": [],
   "source": []
  },
  {
   "cell_type": "code",
   "execution_count": 2,
   "metadata": {},
   "outputs": [],
   "source": [
    "def setOfTags(file):\n",
    "    with open(file, encoding='utf-8') as file:\n",
    "        f = file.readlines()\n",
    "        f = [i.strip().lower() for i in f]\n",
    "        f = [j.replace('#','') for j in f]\n",
    "        content = sorted(set(f))\n",
    "        return content"
   ]
  },
  {
   "cell_type": "code",
   "execution_count": 3,
   "metadata": {},
   "outputs": [],
   "source": [
    "def produceCsv(tags, filename):\n",
    "    df = pd.DataFrame(columns=['tags'], data=tags)\n",
    "    df.to_csv(filename)"
   ]
  },
  {
   "cell_type": "code",
   "execution_count": 16,
   "metadata": {},
   "outputs": [],
   "source": [
    "species = 'blackbird'\n",
    "date = 'May 20, 2020'\n",
    "content = 'This is the paragraph of contents'\n",
    "footer = ['.\\n','.\\n','.\\n','\\\\/\\n','Nature is all around us!\\n', 'So #OpenYourMind #BeCurious #CareMore\\n', '/\\\\\\n','Hashtags:\\n']\n",
    "hashTable = pd.read_csv('bird.csv')\n",
    "hashtags = ['#'+random.choice(hashTable['tags'])+' ' for i in range(23)]\n",
    "\n",
    "\n",
    "with open('post.txt','w',encoding='utf-8') as file:\n",
    "    file.write('#' + species + '\\n')\n",
    "    file.write('Date: ' + date + '\\n')\n",
    "    file.write(content + '\\n')\n",
    "    file.writelines(footer)\n",
    "    file.writelines(hashtags)\n",
    "    "
   ]
  },
  {
   "cell_type": "code",
   "execution_count": 39,
   "metadata": {},
   "outputs": [],
   "source": [
    "def main():\n",
    "    species = input('SPECIES\\n')\n",
    "    date = input('DATE\\n')\n",
    "    content = input('CONTENT\\n').split('\\\\n')\n",
    "    content = [line.rstrip().lstrip()+'\\n' for line in content]\n",
    "    footer = ['.\\n','.\\n','.\\n','\\\\/\\n','Nature is all around us!\\n', \n",
    "              'So #OpenYourMind #BeCurious #CareMore\\n', '/\\\\\\n','Hashtags:\\n']\n",
    "    hashTable = input('HASHTABLE')\n",
    "    hashTable = pd.read_csv(hashTable)\n",
    "    hashtags = ['#'+random.choice(hashTable['tags'])+' ' for i in range(23)]\n",
    "    \n",
    "    with open('post.txt','w',encoding='utf-8') as file:\n",
    "        file.write('#' + species + '\\n')\n",
    "        file.write('Date: ' + date + '\\n')\n",
    "        file.writelines(content)\n",
    "        file.writelines(footer)\n",
    "        file.writelines(hashtags)"
   ]
  },
  {
   "cell_type": "code",
   "execution_count": null,
   "metadata": {},
   "outputs": [],
   "source": []
  }
 ],
 "metadata": {
  "kernelspec": {
   "display_name": "Python 3",
   "language": "python",
   "name": "python3"
  },
  "language_info": {
   "codemirror_mode": {
    "name": "ipython",
    "version": 3
   },
   "file_extension": ".py",
   "mimetype": "text/x-python",
   "name": "python",
   "nbconvert_exporter": "python",
   "pygments_lexer": "ipython3",
   "version": "3.8.3-final"
  }
 },
 "nbformat": 4,
 "nbformat_minor": 4
}